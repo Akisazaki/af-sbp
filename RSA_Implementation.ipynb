{
  "nbformat": 4,
  "nbformat_minor": 0,
  "metadata": {
    "colab": {
      "name": "RSA Implementation.ipynb",
      "provenance": [],
      "collapsed_sections": [],
      "authorship_tag": "ABX9TyNz+VgCKy2405hF37HPey8P",
      "include_colab_link": true
    },
    "kernelspec": {
      "name": "python3",
      "display_name": "Python 3"
    },
    "language_info": {
      "name": "python"
    }
  },
  "cells": [
    {
      "cell_type": "markdown",
      "metadata": {
        "id": "view-in-github",
        "colab_type": "text"
      },
      "source": [
        "<a href=\"https://colab.research.google.com/github/Akisazaki/af-sbp/blob/master/RSA_Implementation.ipynb\" target=\"_parent\"><img src=\"https://colab.research.google.com/assets/colab-badge.svg\" alt=\"Open In Colab\"/></a>"
      ]
    },
    {
      "cell_type": "code",
      "metadata": {
        "id": "QrOQmWSnHME5"
      },
      "source": [
        "def FastModulo(b, p, d):\n",
        "  i = 1\n",
        "  while p > i: i = i << 1\n",
        "  i = i >> 1\n",
        "  r = 1\n",
        "  while i > 0:\n",
        "    r = (r * r) % d\n",
        "    if p & i:\n",
        "      r = (r * b) % d\n",
        "    i = i >> 1\n",
        "  return r"
      ],
      "execution_count": 1,
      "outputs": []
    },
    {
      "cell_type": "code",
      "metadata": {
        "id": "xI4Z1rMR4rD4"
      },
      "source": [
        "def GCD(m, n):\n",
        "  if m < n:\n",
        "    m, n = n, m\n",
        "  if n == 0:\n",
        "    return m\n",
        "  else:\n",
        "    return GCD(n, m % n)"
      ],
      "execution_count": 2,
      "outputs": []
    },
    {
      "cell_type": "code",
      "metadata": {
        "id": "grIkUehcnYLg"
      },
      "source": [
        "# https://www.geeksforgeeks.org/euclidean-algorithms-basic-and-extended/\n",
        "def GCDExtended(d, f):\n",
        "  \"\"\"\n",
        "  Extended Euclidian Algorithm\n",
        "  dd' = 1 mod f\n",
        "  return gcd, csi, cbi\n",
        "  \"\"\"\n",
        "  if d == 0:\n",
        "    return f, 0, 1\n",
        "  else:\n",
        "    gcd, x, y = GCDExtended(f % d, d)\n",
        "    return gcd, (y - (f // d) * x), x"
      ],
      "execution_count": 3,
      "outputs": []
    },
    {
      "cell_type": "code",
      "metadata": {
        "id": "Z9vbWf1Bndiu"
      },
      "source": [
        "def PrimeNumbers(index):\n",
        "  \"\"\"\n",
        "  Too slow. throw it!\n",
        "  \"\"\"\n",
        "  i = PrimeNumbers.primes[-1]\n",
        "  while len(PrimeNumbers.primes) <= index:\n",
        "    i = i + 2\n",
        "    p = True\n",
        "    for k in PrimeNumbers.primes:\n",
        "      if i % k == 0:\n",
        "        p = False\n",
        "        break\n",
        "    if p:\n",
        "      PrimeNumbers.primes.append(i)\n",
        "  return PrimeNumbers.primes[index]\n",
        "PrimeNumbers.primes = [2, 3, 5, 7, 11, 13, 17, 19, 23, 29,\n",
        "                     31, 37, 41, 43, 47, 53, 59, 61, 67,\n",
        "                     71, 73, 79, 83, 89, 97, 101, 103,\n",
        "                     107, 109, 113, 127, 131, 137, 139,\n",
        "                     149, 151, 157, 163, 167, 173, 179,\n",
        "                     181, 191, 193, 197, 199, 211, 223,\n",
        "                     227, 229, 233, 239, 241, 251, 257,\n",
        "                     263, 269, 271, 277, 281, 283, 293,\n",
        "                     307, 311, 313, 317, 331, 337, 347, 349]\n",
        "\n",
        "\n",
        "\n",
        "\n",
        "#\n",
        "# https://www.geeksforgeeks.org/how-to-generate-large-prime-numbers-for-rsa-algorithm/\n",
        "#\n",
        "\n",
        "# Large Prime Generation for RSA\n",
        "import random\n",
        " \n",
        "# Pre generated primes\n",
        "first_primes_list = [2, 3, 5, 7, 11, 13, 17, 19, 23, 29,\n",
        "                     31, 37, 41, 43, 47, 53, 59, 61, 67,\n",
        "                     71, 73, 79, 83, 89, 97, 101, 103,\n",
        "                     107, 109, 113, 127, 131, 137, 139,\n",
        "                     149, 151, 157, 163, 167, 173, 179,\n",
        "                     181, 191, 193, 197, 199, 211, 223,\n",
        "                     227, 229, 233, 239, 241, 251, 257,\n",
        "                     263, 269, 271, 277, 281, 283, 293,\n",
        "                     307, 311, 313, 317, 331, 337, 347, 349]\n",
        " \n",
        "def nBitRandom(n):\n",
        "    return random.randrange(2**(n-1)+1, 2**n - 1)\n",
        " \n",
        "def getLowLevelPrime(n):\n",
        "    '''Generate a prime candidate divisible\n",
        "    by first primes'''\n",
        "    while True:\n",
        "        # Obtain a random number\n",
        "        pc = nBitRandom(n)\n",
        " \n",
        "         # Test divisibility by pre-generated\n",
        "         # primes\n",
        "        for divisor in first_primes_list:\n",
        "            if pc % divisor == 0 and divisor**2 <= pc:\n",
        "                break\n",
        "        else: return pc\n",
        " \n",
        "def isPrimeNumber(mrc):\n",
        "    if mrc <= first_primes_list[-1]:\n",
        "      return mrc in first_primes_list\n",
        "    '''Run 20 iterations of Rabin Miller Primality test'''\n",
        "    maxDivisionsByTwo = 0\n",
        "    ec = mrc-1\n",
        "    while ec % 2 == 0:\n",
        "        ec >>= 1\n",
        "        maxDivisionsByTwo += 1\n",
        "    assert(2**maxDivisionsByTwo * ec == mrc-1)\n",
        " \n",
        "    def trialComposite(round_tester):\n",
        "        if pow(round_tester, ec, mrc) == 1:\n",
        "            return False\n",
        "        for i in range(maxDivisionsByTwo):\n",
        "            if pow(round_tester, 2**i * ec, mrc) == mrc-1:\n",
        "                return False\n",
        "        return True\n",
        " \n",
        "    # Set number of trials here\n",
        "    numberOfRabinTrials = 20\n",
        "    for i in range(numberOfRabinTrials):\n",
        "        round_tester = random.randrange(2, mrc)\n",
        "        if trialComposite(round_tester):\n",
        "            return False\n",
        "    return True\n",
        "\n",
        "def nBitPrimeRandom(bits):\n",
        "  while True:\n",
        "    prime_candidate = getLowLevelPrime(bits)\n",
        "    if isPrimeNumber(prime_candidate):\n",
        "      return prime_candidate"
      ],
      "execution_count": 4,
      "outputs": []
    },
    {
      "cell_type": "code",
      "metadata": {
        "id": "QaMcRTeRjvZa"
      },
      "source": [
        "# https://stackoverflow.com/questions/2654149/bit-length-of-a-positive-integer-in-python\n",
        "def num_of_bits(n):\n",
        "  return len('{:b}'.format(n))"
      ],
      "execution_count": 5,
      "outputs": []
    },
    {
      "cell_type": "code",
      "metadata": {
        "id": "tWZxCOGBnXNl"
      },
      "source": [
        "def splitBit(v, n):\n",
        "  kv = []\n",
        "  while v > 0:\n",
        "    t = v % n\n",
        "    v = v // n\n",
        "    kv.append(t)\n",
        "  return kv\n",
        "\n",
        "def mergeBit(bits, n):\n",
        "  v = 0\n",
        "  while len(bits) > 0:\n",
        "    v = v * n\n",
        "    v = v + bits.pop()\n",
        "  return v"
      ],
      "execution_count": 6,
      "outputs": []
    },
    {
      "cell_type": "code",
      "metadata": {
        "id": "Q0NPHROSrKn9"
      },
      "source": [
        "import math\n",
        "\n",
        "def RSA(key_size = None, p = None, q = None):\n",
        "  \"\"\"\n",
        "  p,q = prime numbers; p*q must be larger then 20.\n",
        "  key_size = number of bits of p,q; must be larger then 2.\n",
        "  \"\"\"\n",
        "  def nprime(n):\n",
        "    if n < 10:\n",
        "      m = 0\n",
        "      while num_of_bits(first_primes_list[m]) < n: m = m + 1\n",
        "      return PrimeNumbers(random.randrange(0, m + 1))\n",
        "    return nBitPrimeRandom(n)\n",
        "  \n",
        "  def gcdExt(d, f): # using to calculate the d parameter\n",
        "    gcd, csi, cbi = GCDExtended(d, f)\n",
        "    if csi < 0:\n",
        "      return f + csi # make positive\n",
        "    else:\n",
        "      return csi\n",
        "  \n",
        "  k = 0\n",
        "  if None == key_size:\n",
        "    if not isPrimeNumber(p) or not isPrimeNumber(q):\n",
        "      raise Exception(\"p or q is not prime number.\")\n",
        "    # if p * q < 21:\n",
        "    #   raise Exception(\"p or q is too small. p*q must be larger than 20.\")\n",
        "\n",
        "    k = max((num_of_bits(p) + num_of_bits(q)) // 2, 5)\n",
        "  else:\n",
        "    if key_size < 3:\n",
        "      raise Exception(\"key_size is too small. key_size must be larger than 2 bit.\")\n",
        "    while True:\n",
        "      p = nprime(key_size)\n",
        "      q = nprime(key_size)\n",
        "      if p != q:\n",
        "        break\n",
        "    k = max(key_size, 5)\n",
        "\n",
        "  n = p * q\n",
        "  pi = (p - 1) * (q - 1)\n",
        "  e = nprime(k)\n",
        "  d = -1\n",
        "  try_count = 0\n",
        "  while True:\n",
        "    if math.log2(n) <= e and e != p and e != q and e != pi and GCD(e, pi) == 1: # check e // https://crypto.stackexchange.com/questions/87018/rsa-algorithm-must-e-be-less-than-varphin\n",
        "      d = gcdExt(e, pi)\n",
        "      if d > 1 and d != e:  # check d\n",
        "        break\n",
        "      elif 10 < try_count:\n",
        "        raise Exception(\"Can't find acceptable d. Please try another p,q.\")\n",
        "      try_count = try_count + 1\n",
        "    e = nprime(k)\n",
        "\n",
        "  print(\"n:\", n, \" p:\", p, \" q:\", q)\n",
        "  print(\"e:\", e, \" d:\", d)\n",
        "\n",
        "  def enc(value):\n",
        "    tokens = splitBit(value, n)\n",
        "    result = []\n",
        "    for token in tokens:\n",
        "      result.append(FastModulo(token, e, n))\n",
        "    return mergeBit(result, n)\n",
        "\n",
        "  def dec(value):\n",
        "    tokens = splitBit(value, n)\n",
        "    result = []\n",
        "    for token in tokens:\n",
        "      result.append(FastModulo(token, d, n))\n",
        "    return mergeBit(result, n)\n",
        "  return enc, dec"
      ],
      "execution_count": 106,
      "outputs": []
    },
    {
      "cell_type": "code",
      "metadata": {
        "colab": {
          "base_uri": "https://localhost:8080/"
        },
        "id": "3smhepvqzfBK",
        "outputId": "e516fc2d-664a-4399-dec3-8506f57963b0"
      },
      "source": [
        "enc, dec = RSA(key_size=3)"
      ],
      "execution_count": 109,
      "outputs": [
        {
          "output_type": "stream",
          "name": "stdout",
          "text": [
            "n: 10  p: 2  q: 5\n",
            "e: 11  d: 3\n"
          ]
        }
      ]
    },
    {
      "cell_type": "code",
      "metadata": {
        "colab": {
          "base_uri": "https://localhost:8080/"
        },
        "id": "UO6xuCyO2qZT",
        "outputId": "d2e57de7-fb47-4533-f1ab-aa3b747586b1"
      },
      "source": [
        "cipher = enc(131)\n",
        "print(cipher)\n",
        "print(dec(cipher))"
      ],
      "execution_count": 110,
      "outputs": [
        {
          "output_type": "stream",
          "name": "stdout",
          "text": [
            "171\n",
            "131\n"
          ]
        }
      ]
    },
    {
      "cell_type": "code",
      "metadata": {
        "id": "uCNqNDaBGZaD",
        "outputId": "a6867fae-365f-456f-f9af-4f0ec6793a69",
        "colab": {
          "base_uri": "https://localhost:8080/"
        }
      },
      "source": [
        "(13*1) % 2"
      ],
      "execution_count": 50,
      "outputs": [
        {
          "output_type": "execute_result",
          "data": {
            "text/plain": [
              "1"
            ]
          },
          "metadata": {},
          "execution_count": 50
        }
      ]
    },
    {
      "cell_type": "code",
      "metadata": {
        "id": "XxLdPyt8Gw-8"
      },
      "source": [
        ""
      ],
      "execution_count": null,
      "outputs": []
    }
  ]
}